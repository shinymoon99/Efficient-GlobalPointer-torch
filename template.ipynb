{
 "cells": [
  {
   "cell_type": "code",
   "execution_count": 8,
   "metadata": {},
   "outputs": [
    {
     "name": "stdout",
     "output_type": "stream",
     "text": [
      "当多种告警同时产生时\n"
     ]
    }
   ],
   "source": [
    "import re\n",
    "\n",
    "# 输入文本\n",
    "text = \"当多种告警同时产生时，只上报最高级别的告警。\"\n",
    "\n",
    "# 正则表达式模式\n",
    "pattern = r\"(当[^，。]*，|[^，。]*后|为了[^，。]*，|[^，。]*时|前[^，。]*，)\"\n",
    "\n",
    "# 使用正则表达式查找条件子句\n",
    "conditions = re.findall(pattern, text)\n",
    "\n",
    "# 打印条件子句\n",
    "for condition in conditions:\n",
    "    # 去除前后的标点和空格\n",
    "    condition = condition.strip(\"，。/\")\n",
    "    print(condition)\n"
   ]
  },
  {
   "cell_type": "code",
   "execution_count": 1,
   "metadata": {},
   "outputs": [
    {
     "name": "stdout",
     "output_type": "stream",
     "text": [
      "导致气温升高\n",
      "满足夏天的要求\n",
      "引起了人们的关注\n",
      "保证身体健康\n",
      "构成了健康生活的一部分\n",
      "形成新的政策\n",
      "实现社会进步\n",
      "进入冬天阶段\n",
      "避免感冒很重要\n",
      "达到目标状态\n",
      "状态会变为稳定\n",
      "使其处于最佳状态\n",
      "不允许个人主义\n",
      "则你会取得成功\n",
      "那么你就可以实现梦想\n",
      "以达到更高的高度\n",
      "从而取得更多的成就\n"
     ]
    }
   ],
   "source": [
    "import re\n",
    "\n",
    "# 输入文本\n",
    "text = \"导致气温升高，满足夏天的要求。这种情况引起了人们的关注。保证身体健康，构成了健康生活的一部分。形成新的政策，实现社会进步。进入冬天阶段，避免感冒很重要。达到目标状态，状态会变为稳定。使其处于最佳状态，他们会更有信心。团队合作无法被忽视，不允许个人主义。努力工作不再是问题，不会再拖延。学习是关键，不会放松。如果你努力工作，不会有遗憾。则你会取得成功。那么你就可以实现梦想。以达到更高的高度，从而取得更多的成就。\"\n",
    "\n",
    "# 正则表达式模式\n",
    "pattern = r\"(导致[^，。]*[，。]|满足[^，。]*[，。]|引起[^，。]*[，。]|保证[^，。]*[，。]|构成[^，。]*[，。]|形成[^，。]*[，。]|实现[^，。]*[，。]|进入[^，。]*阶段[，。]|避免[^，。]*[，。]|达到[^，。]*状态[，。]|状态会变为[^，。]*[，。]|使其处于[^，。]*状态[，。]|[^，。]*无法[，。]|不允许[^，。]*[，。]|[^，。]*不再[，。]|[^，。]*不会再[，。]|[^，。]*不会[，。]|[^，。]*不[，。]|则[^，。]*[，。]|那么[^，。]*[，。]|以[^，。]*[，。]|从而[^，。]*[，。]|进而[^，。]*[，。])\"\n",
    "\n",
    "# 使用正则表达式查找子句\n",
    "sentences = re.findall(pattern, text)\n",
    "\n",
    "# 打印划分为状态的子句\n",
    "for sentence in sentences:\n",
    "    # 去除前后的标点和空格\n",
    "    sentence = sentence.strip(\"，。\")\n",
    "    print(sentence)\n"
   ]
  },
  {
   "cell_type": "code",
   "execution_count": null,
   "metadata": {},
   "outputs": [],
   "source": []
  },
  {
   "cell_type": "code",
   "execution_count": null,
   "metadata": {},
   "outputs": [],
   "source": []
  },
  {
   "cell_type": "code",
   "execution_count": 1,
   "metadata": {},
   "outputs": [
    {
     "name": "stdout",
     "output_type": "stream",
     "text": [
      "[['然后'], [], ['满足创建BFD会话的条件后'], ['使能事件的延迟上报功能后', '则后', '延迟上报周期到达时'], ['在接收者侧DR上配置了切换阈值后', '当组播数据转发速率超过阈值时'], ['使能远端认证失败后账号锁定功能后'], ['然后'], ['在达到一定的阈值（警戒条件）时', '并在警戒解除之后'], ['当采样传感器组已被订阅且执行sensor-group（Subscription视图）命令配置了心跳间隔或者冗余抑制时'], ['当有RouterA到RouterD的流量被发送给RouterC时'], [], [], ['当管理VRRP发生主备切换时', '同时'], ['当网络中到达同一目的地存在同一路由协议发现的多条路由'], ['当ARP报文超过该限速值时'], ['系统检测到企图修改ARP表项的攻击报文时'], []]\n",
      "[['太网帧中的协议域和VLAN ID的映射关系表'], [], ['满足创建BFD会话的条件后'], ['减少事件的上报频率', '后产生的事件将被丢弃'], [], [], [], ['周期性地监控设备的运行状态'], ['无法在此采样传感器组的采样路径下配置过滤器'], [], [], ['可以在ESDP系统上进行License授权拆分'], [], ['这些路由就是等价路由', '实现负载分担'], [], [], ['实现PC1和PC2通过公网互通', '互相通信了']]\n",
      "Precision: 0.3333333333333333 \n",
      "Recall: 0.2857142857142857 \n",
      "F1-score: 0.30769230769230765\n",
      "Precision: 0.36363636363636365 \n",
      "Recall: 0.5714285714285714 \n",
      "F1-score: 0.4444444444444444\n"
     ]
    }
   ],
   "source": [
    "import re\n",
    "import json\n",
    "def calculate_metrics(result, reference):\n",
    "    TP = 0\n",
    "    FP = 0\n",
    "    FN = 0\n",
    "\n",
    "    for res_list, ref_list in zip(result, reference):\n",
    "        common_elements = set(res_list).intersection(ref_list)\n",
    "        TP += len(common_elements)\n",
    "        FP += len(res_list) - len(common_elements)\n",
    "        FN += len(ref_list) - len(common_elements)\n",
    "\n",
    "    if TP == 0:\n",
    "        precision = 0\n",
    "        recall = 0\n",
    "        f1_score = 0\n",
    "    else:\n",
    "        precision = TP / (TP + FP)\n",
    "        recall = TP / (TP + FN)\n",
    "        f1_score = 2 * (precision * recall) / (precision + recall)\n",
    "\n",
    "    return precision, recall, f1_score\n",
    "\n",
    "# Example usage:\n",
    "\n",
    "\n",
    "#precision, recall, f1_score = calculate_metrics(result, reference)\n",
    "# print(\"Precision:\", precision)\n",
    "# print(\"Recall:\", recall)\n",
    "# print(\"F1-score:\", f1_score)\n",
    "\n",
    "# 输入文本\n",
    "text = \"当天气晴朗时，我去散步。为了健康，每天都要锻炼。下雨后，我会呆在家里。\"\n",
    "\n",
    "# 正则表达式模式\n",
    "pattern = r\"(当[^，。]*，|[^，。]*后|为了[^，。]*，|[^，。]*时|前[^，。]*，)\"\n",
    "pattern1=r\"导致[^，。]*[，。]|满足[^，。]*[，。]|引起[^，。]*[，。]|保证[^，。]*[，。]|构成[^，。]*[，。]|形成[^，。]*[，。]|实现[^，。]*[，。]|进入[^，。]*阶段[，。]|避免[^，。]*[，。]|达到[^，。]*状态[，。]|状态会变为[^，。]*[，。]|使其处于[^，。]*状态[，。]|[^，。]*无法[，。]|不允许[^，。]*[，。]|[^，。]*不再[，。]|[^，。]*不会再[，。]|[^，。]*不会[，。]|[^，。]*不[，。]|(?<=则)[^，。]*[，。]|(?<=那么)[^，。]*[，。]|(?<=以)[^，。]*[，。]|(?<=从而)[^，。]*[，。]|(?<=进而)[^，。]*[，。]\"\n",
    "#pattern1 = r\"(?:导致|满足|引起|保证|构成|形成|实现|进入|避免|达到|状态会变为|使其处于|[^，。]*(?:无法|不允许|不再|不会|不)[^，。]*|则|那么|以|从而|进而)[^，。]*[，。]\"\n",
    "\n",
    "# 使用正则表达式查找条件子句\n",
    "conditions = re.findall(pattern, text)\n",
    "\n",
    "# 打印条件子句\n",
    "# for condition in conditions:\n",
    "#     # 去除前后的标点和空格\n",
    "#     condition = condition.strip(\"，。/\")\n",
    "#     print(condition)\n",
    "\n",
    "cond_results = []\n",
    "status_results = []\n",
    "with open(\"./datasets/ICTPE_v2/ICTPE_dev.json\") as f:\n",
    "    datas =json.load(f)\n",
    "for process in datas:\n",
    "    sentence = process[\"text\"]\n",
    "    conditions = re.findall(pattern, sentence)\n",
    "    statuses = re.findall(pattern1, sentence)    \n",
    "    cond_results.append([x.strip(\"，。/\") for x in conditions])\n",
    "    status_results.append([x.strip(\"，。/\") for x in statuses])\n",
    "print(cond_results)\n",
    "print(status_results)\n",
    "gcond = []\n",
    "gstatus = []\n",
    "for process in datas:\n",
    "    cond = []\n",
    "    st = []\n",
    "    for node in process[\"node_list\"]:\n",
    "        if node[\"type\"] == \"condition\":\n",
    "            cond.append(node[\"text_span\"])\n",
    "        elif node[\"type\"] == \"status\":\n",
    "            st.append(node[\"text_span\"])\n",
    "    gcond.append(cond)\n",
    "    gstatus.append(st)\n",
    "p,r,f=calculate_metrics(cond_results,gcond)\n",
    "p1,r1,f1=calculate_metrics(status_results,gstatus)\n",
    "print(\"Precision:\", p, \"\\nRecall:\", r, \"\\nF1-score:\", f)\n",
    "print(\"Precision:\", p1, \"\\nRecall:\", r1, \"\\nF1-score:\", f1)"
   ]
  },
  {
   "cell_type": "code",
   "execution_count": 16,
   "metadata": {},
   "outputs": [
    {
     "name": "stdout",
     "output_type": "stream",
     "text": [
      "完成操作\n"
     ]
    }
   ],
   "source": [
    "import re\n",
    "\n",
    "# 输入文本\n",
    "text = \"当多种告警同时产生时，只上报最高级别的告警,进而完成操作。\"\n",
    "\n",
    "# 正则表达式模式\n",
    "pattern = r\"(?<=进而)[^，。]*\"\n",
    "\n",
    "# 使用正则表达式查找条件子句\n",
    "conditions = re.findall(pattern, text)\n",
    "\n",
    "# 打印条件子句\n",
    "for condition in conditions:\n",
    "    # 去除前后的标点和空格\n",
    "    condition = condition.strip(\"，。/\")\n",
    "    print(condition)"
   ]
  }
 ],
 "metadata": {
  "kernelspec": {
   "display_name": "gplinker_env",
   "language": "python",
   "name": "python3"
  },
  "language_info": {
   "codemirror_mode": {
    "name": "ipython",
    "version": 3
   },
   "file_extension": ".py",
   "mimetype": "text/x-python",
   "name": "python",
   "nbconvert_exporter": "python",
   "pygments_lexer": "ipython3",
   "version": "3.7.16"
  }
 },
 "nbformat": 4,
 "nbformat_minor": 2
}
